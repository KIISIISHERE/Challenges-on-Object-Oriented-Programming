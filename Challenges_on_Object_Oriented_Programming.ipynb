{
  "nbformat": 4,
  "nbformat_minor": 0,
  "metadata": {
    "colab": {
      "provenance": [],
      "authorship_tag": "ABX9TyN0U6pAC8ic+zulZwkU0Wv7",
      "include_colab_link": true
    },
    "kernelspec": {
      "name": "python3",
      "display_name": "Python 3"
    },
    "language_info": {
      "name": "python"
    }
  },
  "cells": [
    {
      "cell_type": "markdown",
      "metadata": {
        "id": "view-in-github",
        "colab_type": "text"
      },
      "source": [
        "<a href=\"https://colab.research.google.com/github/KIISIISHERE/Challenges-on-Object-Oriented-Programming/blob/main/Challenges_on_Object_Oriented_Programming.ipynb\" target=\"_parent\"><img src=\"https://colab.research.google.com/assets/colab-badge.svg\" alt=\"Open In Colab\"/></a>"
      ]
    },
    {
      "cell_type": "code",
      "execution_count": 3,
      "metadata": {
        "colab": {
          "base_uri": "https://localhost:8080/"
        },
        "collapsed": true,
        "id": "cLuaY--y9zLz",
        "outputId": "dd7866f9-107e-4644-8b1e-37b78d2c2dea"
      },
      "outputs": [
        {
          "output_type": "stream",
          "name": "stdout",
          "text": [
            "Passed Values : 2 3\n",
            "ob1 is less than ob2\n",
            "Passed Values : 4 4\n",
            "False\n"
          ]
        }
      ],
      "source": [
        "# Activity 1 : Overload Operations\n",
        "class A:\n",
        "    def __init__(self, a):\n",
        "      self.a = a\n",
        "    def __lt__(self, other):\n",
        "      if(self.a<other.a):\n",
        "        return \"ob1 is less than ob2\"\n",
        "      else:\n",
        "        return \"ob2 is less than ob1\"\n",
        "    def __ep__(self, other):\n",
        "      if(self.a == other.a):\n",
        "        return \"Both are equal\"\n",
        "      else:\n",
        "        return \"Not equal\"\n",
        "ob1 = A(2)\n",
        "ob2 = A(3)\n",
        "print(\"Passed Values :\", ob1.a, ob2.a)\n",
        "print(ob1 < ob2)\n",
        "ob3 = A(4)\n",
        "ob4 = A(4)\n",
        "print(\"Passed Values :\", ob3.a, ob4.a)\n",
        "print(ob3 == ob4)\n"
      ]
    },
    {
      "cell_type": "code",
      "source": [
        "# Activity 2: Flashcards\n",
        "class Flashcard:\n",
        "  def __init__(self, word, meaning):\n",
        "    self.word = word\n",
        "    self.meaning = meaning\n",
        "  def __str__(self):\n",
        "    return f\"{self.word} ({self.meaning})\"\n",
        "flashcards = []\n",
        "print(\"Welcome to the Flashcard Application!\")\n",
        "while True:\n",
        "    word = input(\"Enter the word: \").strip()\n",
        "    meaning = input(\"Enter the meaning: \").strip()\n",
        "    if word and meaning:\n",
        "        flashcards.append(Flashcard(word, meaning))\n",
        "    else:\n",
        "        print(\"Blank entries are not allowed.\")\n",
        "    if input(\"Add another flashcard (y/n): \").lower() != 'y':\n",
        "        break\n",
        "print(\"\\nYour Flashcards:\")\n",
        "for card in flashcards:\n",
        "    print(\">\", card)\n"
      ],
      "metadata": {
        "colab": {
          "base_uri": "https://localhost:8080/"
        },
        "collapsed": true,
        "id": "bSN2YJ7C_-GO",
        "outputId": "3252ab85-6d72-47ed-8631-83311820e0a7"
      },
      "execution_count": 5,
      "outputs": [
        {
          "output_type": "stream",
          "name": "stdout",
          "text": [
            "Welcome to the Flashcard Application!\n",
            "Enter the word: apple\n",
            "Enter the meaning: a fruit\n",
            "Add another flashcard (y/n): y\n",
            "Enter the word: broccli\n",
            "Enter the meaning: a vegtable\n",
            "Add another flashcard (y/n): y\n",
            "Enter the word: tomato\n",
            "Enter the meaning: no one knows if its a fruit or veggy\n",
            "Add another flashcard (y/n): n\n",
            "\n",
            "Your Flashcards:\n",
            "> apple (a fruit)\n",
            "> broccli (a vegtable)\n",
            "> tomato (no one knows if its a fruit or veggy)\n"
          ]
        }
      ]
    }
  ]
}